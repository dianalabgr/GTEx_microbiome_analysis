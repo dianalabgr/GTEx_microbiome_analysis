{
 "cells": [
  {
   "cell_type": "markdown",
   "id": "a4b5bee1",
   "metadata": {},
   "source": [
    "### import libraries "
   ]
  },
  {
   "cell_type": "code",
   "execution_count": 1,
   "id": "cf440ed2",
   "metadata": {},
   "outputs": [],
   "source": [
    "import pandas as pd\n",
    "import sys\n",
    "from io import StringIO\n",
    "import numpy as np\n",
    "import matplotlib.pyplot as plt"
   ]
  },
  {
   "cell_type": "markdown",
   "id": "db781bdf",
   "metadata": {},
   "source": [
    "#### Instructions on how to downlaod the samples and sequecing metadata are here https://anvilproject.org/learn/reference/gtex-v8-free-egress-instructions"
   ]
  },
  {
   "cell_type": "markdown",
   "id": "e61b039c",
   "metadata": {},
   "source": [
    "### Read the files from GTEx with the samples attributes and the sequencing attributes and create a GTEx_sample_QCed_dataframe with the merge"
   ]
  },
  {
   "cell_type": "code",
   "execution_count": 3,
   "id": "c5d05f52",
   "metadata": {},
   "outputs": [],
   "source": [
    "samples_sequencing_attributes=pd.read_table(\"./tsvs/sequencing.tsv\")"
   ]
  },
  {
   "cell_type": "code",
   "execution_count": 4,
   "id": "f0420de5",
   "metadata": {},
   "outputs": [],
   "source": [
    "samples_attributes=pd.read_table(\"./tsvs/sample.tsv\")"
   ]
  },
  {
   "cell_type": "code",
   "execution_count": 5,
   "id": "44368530",
   "metadata": {},
   "outputs": [
    {
     "data": {
      "text/plain": [
       "(17350, 29)"
      ]
     },
     "execution_count": 5,
     "metadata": {},
     "output_type": "execute_result"
    }
   ],
   "source": [
    "samples_attributes.shape"
   ]
  },
  {
   "cell_type": "code",
   "execution_count": 6,
   "id": "aa70a368",
   "metadata": {},
   "outputs": [],
   "source": [
    "GTEx_sample_QCed_dataframe=pd.merge(samples_sequencing_attributes,samples_attributes, left_on=\"samples.submitter_id\", right_on=\"submitter_id\")"
   ]
  },
  {
   "cell_type": "code",
   "execution_count": 7,
   "id": "1cd9dda7",
   "metadata": {},
   "outputs": [
    {
     "data": {
      "text/plain": [
       "(17350, 118)"
      ]
     },
     "execution_count": 7,
     "metadata": {},
     "output_type": "execute_result"
    }
   ],
   "source": [
    "GTEx_sample_QCed_dataframe.shape"
   ]
  },
  {
   "cell_type": "code",
   "execution_count": 8,
   "id": "9cbbe5bf",
   "metadata": {},
   "outputs": [
    {
     "data": {
      "text/plain": [
       "specimen_id             GTEX-15SDE-0726-SM-6M48Q\n",
       "samples.submitter_id    GTEX-15SDE-0726-SM-6M48Q\n",
       "Name: 1, dtype: object"
      ]
     },
     "execution_count": 8,
     "metadata": {},
     "output_type": "execute_result"
    }
   ],
   "source": [
    "#sanity check\n",
    "GTEx_sample_QCed_dataframe.loc[1,[\"specimen_id\",\"samples.submitter_id\"]]"
   ]
  },
  {
   "cell_type": "code",
   "execution_count": 9,
   "id": "9eb4c90b",
   "metadata": {},
   "outputs": [
    {
     "data": {
      "text/plain": [
       "Index(['type_x', 'alignment_method', 'analyte_type', 'capture_region_bed_file',\n",
       "       'data_processing_pipeline', 'date_data_generation',\n",
       "       'experimental_strategy', 'exome_capture_platform',\n",
       "       'functional_equivalence_standard', 'library_prep_kit_method',\n",
       "       ...\n",
       "       'total_ischemic_time', 'paxgene_time', 'submitter_id_y', 'state_y',\n",
       "       'project_id_y', 'created_datetime_y', 'updated_datetime_y', 'id_y',\n",
       "       'subjects.id', 'subjects.submitter_id'],\n",
       "      dtype='object', length=118)"
      ]
     },
     "execution_count": 9,
     "metadata": {},
     "output_type": "execute_result"
    }
   ],
   "source": [
    "GTEx_sample_QCed_dataframe.columns"
   ]
  },
  {
   "cell_type": "code",
   "execution_count": 10,
   "id": "a8b3b26c",
   "metadata": {},
   "outputs": [
    {
     "data": {
      "text/plain": [
       "948"
      ]
     },
     "execution_count": 10,
     "metadata": {},
     "output_type": "execute_result"
    }
   ],
   "source": [
    "#Number of different subjects\n",
    "len(GTEx_sample_QCed_dataframe.loc[:,\"subjects.submitter_id\"].unique())"
   ]
  },
  {
   "cell_type": "code",
   "execution_count": 11,
   "id": "e2efc415",
   "metadata": {},
   "outputs": [
    {
     "name": "stdout",
     "output_type": "stream",
     "text": [
      "30\n",
      "54\n"
     ]
    }
   ],
   "source": [
    "#Number of different tissues\n",
    "print(len(GTEx_sample_QCed_dataframe.loc[:,\"tissue_type\"].unique()))\n",
    "print(len(GTEx_sample_QCed_dataframe.loc[:,\"tissue_type_detail\"].unique()))"
   ]
  },
  {
   "cell_type": "markdown",
   "id": "2967c7cf",
   "metadata": {},
   "source": [
    "### Check how many samples have missing metadata in the variables of interest. \n",
    "Autolysis Score\n",
    "\n",
    "Nucleic Acid Isolation Batch ID\n",
    "\n",
    "SMNABTCHD : Date of nucleic acid isolation batch\n",
    "\n",
    "SMGEBTCH : Genotype or Expression Batch ID\n",
    "\n",
    "SMGEBTCHD : Date of genotype or expression batch\n",
    "\n",
    "SMCENTER : Code for BSS collection site\n",
    "\n",
    "SMRIN : RIN Number\n",
    "\n",
    "SMTSISCH : Total Ischemic time for a sample\n",
    "\n",
    "SMTS : Tissue Type, area from which the tissue sample was taken.  This is a parent value to SMTSD.\n",
    "\n",
    "SMTSD : Tissue Type, more specific detail of tissue type\n",
    "\n",
    "SMRDTTL : Total: Total reads (filtered to exclude reads with vendor fail or alternative alignment flags)"
   ]
  },
  {
   "cell_type": "code",
   "execution_count": 12,
   "id": "b4b1016a",
   "metadata": {},
   "outputs": [
    {
     "name": "stdout",
     "output_type": "stream",
     "text": [
      "Nan values in autolysis_score: 3580\n",
      "Nan values in nucleic_acid_isolation_batch_id: 0\n",
      "Nan values in date_nucleic_acid_isolation: 0\n",
      "Nan values in genotype_expression_batch_id: 10\n",
      "Nan values in date_genotype_expression: 16\n",
      "Nan values in bss_collection_site: 10\n",
      "Nan values in rin_number: 0\n",
      "Nan values in total_ischemic_time: 26\n",
      "Nan values in tissue_type: 0\n",
      "Nan values in tissue_type_detail: 0\n",
      "Nan values in total_reads: 0\n"
     ]
    }
   ],
   "source": [
    "print(\"Nan values in autolysis_score:\",GTEx_sample_QCed_dataframe[\"autolysis_score\"].isnull().sum())\n",
    "print(\"Nan values in nucleic_acid_isolation_batch_id:\",GTEx_sample_QCed_dataframe[\"nucleic_acid_isolation_batch_id\"].isnull().sum())\n",
    "print(\"Nan values in date_nucleic_acid_isolation:\",GTEx_sample_QCed_dataframe[\"date_nucleic_acid_isolation\"].isnull().sum())\n",
    "print(\"Nan values in genotype_expression_batch_id:\",GTEx_sample_QCed_dataframe[\"genotype_expression_batch_id\"].isnull().sum())\n",
    "print(\"Nan values in date_genotype_expression:\",GTEx_sample_QCed_dataframe[\"date_genotype_expression\"].isnull().sum())\n",
    "print(\"Nan values in bss_collection_site:\",GTEx_sample_QCed_dataframe[\"bss_collection_site\"].isnull().sum())\n",
    "print(\"Nan values in rin_number:\",GTEx_sample_QCed_dataframe[\"rin_number\"].isnull().sum())\n",
    "print(\"Nan values in total_ischemic_time:\",GTEx_sample_QCed_dataframe[\"total_ischemic_time\"].isnull().sum())\n",
    "print(\"Nan values in tissue_type:\",GTEx_sample_QCed_dataframe[\"tissue_type\"].isnull().sum())\n",
    "print(\"Nan values in tissue_type_detail:\",GTEx_sample_QCed_dataframe[\"tissue_type_detail\"].isnull().sum())\n",
    "print(\"Nan values in total_reads:\",GTEx_sample_QCed_dataframe[\"total_reads\"].isnull().sum())"
   ]
  },
  {
   "cell_type": "code",
   "execution_count": 13,
   "id": "5d6f4edb",
   "metadata": {},
   "outputs": [
    {
     "data": {
      "text/plain": [
       "current_material_type\n",
       "Cells:Pellet frozen                678\n",
       "Tissue:Fresh Frozen Tissue        2146\n",
       "Tissue:PAXgene Preserved         13771\n",
       "Whole Blood:PAXgene Preserved      739\n",
       "Whole Blood:Whole Blood             16\n",
       "dtype: int64"
      ]
     },
     "execution_count": 13,
     "metadata": {},
     "output_type": "execute_result"
    }
   ],
   "source": [
    "GTEx_sample_QCed_dataframe.groupby(\"current_material_type\").size()"
   ]
  },
  {
   "cell_type": "markdown",
   "id": "a84f51ca",
   "metadata": {},
   "source": [
    "### Keep only the samples without missing values in the above variables"
   ]
  },
  {
   "cell_type": "code",
   "execution_count": 15,
   "id": "7a05526e",
   "metadata": {},
   "outputs": [],
   "source": [
    "GTEx_sample_QCed_dataframe_notNA=GTEx_sample_QCed_dataframe"
   ]
  },
  {
   "cell_type": "code",
   "execution_count": 16,
   "id": "da413ce8",
   "metadata": {},
   "outputs": [],
   "source": [
    "GTEx_sample_QCed_dataframe_notNA.dropna(subset=[\"nucleic_acid_isolation_batch_id\", \"date_nucleic_acid_isolation\", \n",
    "                                                \"date_genotype_expression\", \"genotype_expression_batch_id\", \n",
    "                                                \"bss_collection_site\", \"rin_number\", \"total_ischemic_time\", \n",
    "                                                \"tissue_type\", \"tissue_type_detail\", \"total_reads\"], inplace=True)"
   ]
  },
  {
   "cell_type": "code",
   "execution_count": 17,
   "id": "7b7b0ad0",
   "metadata": {},
   "outputs": [
    {
     "data": {
      "text/plain": [
       "(17298, 118)"
      ]
     },
     "execution_count": 17,
     "metadata": {},
     "output_type": "execute_result"
    }
   ],
   "source": [
    "GTEx_sample_QCed_dataframe_notNA.shape"
   ]
  },
  {
   "cell_type": "markdown",
   "id": "4bb641c7",
   "metadata": {},
   "source": [
    "### Keep the samples that their material type was Tissue:PAXgene Preserved and or  Whole Blood:PAXgene Preserved\n",
    "Cells:Pellet frozen , Tissue:Fresh Frozen Tissue, Whole Blood:PAXgene Preserved, Whole Blood:Whole Blood "
   ]
  },
  {
   "cell_type": "code",
   "execution_count": 18,
   "id": "bce83576",
   "metadata": {},
   "outputs": [],
   "source": [
    "GTEx_sample_QCed_dataframe_notNA_MaterialType=GTEx_sample_QCed_dataframe_notNA[(GTEx_sample_QCed_dataframe_notNA[\"current_material_type\"]==\"Tissue:PAXgene Preserved\") | (GTEx_sample_QCed_dataframe_notNA[\"current_material_type\"]==\"Whole Blood:PAXgene Preserved\")]"
   ]
  },
  {
   "cell_type": "code",
   "execution_count": 19,
   "id": "c4f05e45",
   "metadata": {},
   "outputs": [
    {
     "data": {
      "text/plain": [
       "(14478, 118)"
      ]
     },
     "execution_count": 19,
     "metadata": {},
     "output_type": "execute_result"
    }
   ],
   "source": [
    "GTEx_sample_QCed_dataframe_notNA_MaterialType.shape"
   ]
  },
  {
   "cell_type": "markdown",
   "id": "34464836",
   "metadata": {},
   "source": [
    "#### Remove the samples from tissues with less than 20 samples "
   ]
  },
  {
   "cell_type": "code",
   "execution_count": 20,
   "id": "cebe21fa",
   "metadata": {},
   "outputs": [
    {
     "data": {
      "text/plain": [
       "tissue_type_detail\n",
       "Adipose - Subcutaneous                   661\n",
       "Adipose - Visceral (Omentum)             540\n",
       "Adrenal Gland                            257\n",
       "Artery - Aorta                           430\n",
       "Artery - Coronary                        240\n",
       "Artery - Tibial                          662\n",
       "Bladder                                   21\n",
       "Brain - Cerebellum                       241\n",
       "Brain - Cortex                           255\n",
       "Breast - Mammary Tissue                  457\n",
       "Cervix - Ectocervix                        9\n",
       "Cervix - Endocervix                       10\n",
       "Colon - Sigmoid                          373\n",
       "Colon - Transverse                       405\n",
       "Esophagus - Gastroesophageal Junction    375\n",
       "Esophagus - Mucosa                       548\n",
       "Esophagus - Muscularis                   509\n",
       "Fallopian Tube                             9\n",
       "Heart - Atrial Appendage                 429\n",
       "Heart - Left Ventricle                   427\n",
       "Kidney - Cortex                           85\n",
       "Kidney - Medulla                           4\n",
       "Liver                                    224\n",
       "Lung                                     573\n",
       "Minor Salivary Gland                     162\n",
       "Muscle - Skeletal                        797\n",
       "Nerve - Tibial                           619\n",
       "Ovary                                    180\n",
       "Pancreas                                 327\n",
       "Pituitary                                283\n",
       "Prostate                                 241\n",
       "Skin - Not Sun Exposed (Suprapubic)      603\n",
       "Skin - Sun Exposed (Lower leg)           696\n",
       "Small Intestine - Terminal Ileum         187\n",
       "Spleen                                   238\n",
       "Stomach                                  358\n",
       "Testis                                   361\n",
       "Thyroid                                  652\n",
       "Uterus                                   142\n",
       "Vagina                                   155\n",
       "Whole Blood                              733\n",
       "dtype: int64"
      ]
     },
     "execution_count": 20,
     "metadata": {},
     "output_type": "execute_result"
    }
   ],
   "source": [
    "GTEx_sample_QCed_dataframe_notNA_MaterialType.groupby(\"tissue_type_detail\").size()"
   ]
  },
  {
   "cell_type": "code",
   "execution_count": 21,
   "id": "edd865b5",
   "metadata": {},
   "outputs": [],
   "source": [
    "GTEx_sample_QCed_dataframe_notNA_MaterialType_notFewSamples=GTEx_sample_QCed_dataframe_notNA_MaterialType[~GTEx_sample_QCed_dataframe_notNA_MaterialType[\"tissue_type_detail\"].isin([\"Fallopian Tube\", \"Kidney - Medulla\",\"Cervix - Ectocervix\", \"Cervix - Endocervix\"])]"
   ]
  },
  {
   "cell_type": "code",
   "execution_count": 22,
   "id": "57fbcd89",
   "metadata": {
    "scrolled": true
   },
   "outputs": [
    {
     "data": {
      "text/plain": [
       "(14446, 118)"
      ]
     },
     "execution_count": 22,
     "metadata": {},
     "output_type": "execute_result"
    }
   ],
   "source": [
    "GTEx_sample_QCed_dataframe_notNA_MaterialType_notFewSamples.shape"
   ]
  },
  {
   "cell_type": "markdown",
   "id": "09b9d11d",
   "metadata": {},
   "source": [
    "#### Regarding BSS collection site"
   ]
  },
  {
   "cell_type": "code",
   "execution_count": 23,
   "id": "884ec10c",
   "metadata": {},
   "outputs": [
    {
     "data": {
      "text/plain": [
       "B1    10106\n",
       "C1     4262\n",
       "D1       78\n",
       "Name: bss_collection_site, dtype: int64"
      ]
     },
     "execution_count": 23,
     "metadata": {},
     "output_type": "execute_result"
    }
   ],
   "source": [
    "GTEx_sample_QCed_dataframe_notNA_MaterialType_notFewSamples[\"bss_collection_site\"].value_counts()"
   ]
  },
  {
   "cell_type": "markdown",
   "id": "3d9aa207",
   "metadata": {},
   "source": [
    "#### Regarding the distribution of RIN across samples"
   ]
  },
  {
   "cell_type": "code",
   "execution_count": 24,
   "id": "8f06e850",
   "metadata": {},
   "outputs": [
    {
     "data": {
      "text/plain": [
       "(array([  1.,   0.,   0.,   0.,   0.,   0.,   0.,   0.,   0.,   0.,   0.,\n",
       "          0.,   0.,   0.,   0.,   0.,   0.,   0.,   0.,   0.,   1.,   0.,\n",
       "          0.,   1.,   0.,   0.,   0.,   2.,   0.,   1.,   0.,   0.,   5.,\n",
       "        110.,   0., 154., 336.,   0., 394., 395.,   0., 408., 425.,   0.,\n",
       "        465., 452.,   0., 452., 465., 509.,   0., 512., 532.,   0., 523.,\n",
       "        554.,   0., 559., 534.,   0., 538., 511.,   0., 478., 483.,   0.,\n",
       "        437., 451.,   0., 444., 438.,   0., 413., 370.,   0., 327., 275.,\n",
       "        237.,   0., 215., 209.,   0., 167., 138.,   0.,  99., 107.,   0.,\n",
       "         77.,  48.,   0.,  50.,  39.,   0.,  43.,  24.,   0.,  19.,   9.,\n",
       "         10.]),\n",
       " array([ 3.20000005,  3.26800005,  3.33600005,  3.40400005,  3.47200005,\n",
       "         3.54000005,  3.60800004,  3.67600004,  3.74400004,  3.81200004,\n",
       "         3.88000004,  3.94800004,  4.01600004,  4.08400004,  4.15200004,\n",
       "         4.22000004,  4.28800004,  4.35600004,  4.42400004,  4.49200004,\n",
       "         4.56000004,  4.62800004,  4.69600004,  4.76400004,  4.83200004,\n",
       "         4.90000004,  4.96800004,  5.03600003,  5.10400003,  5.17200003,\n",
       "         5.24000003,  5.30800003,  5.37600003,  5.44400003,  5.51200003,\n",
       "         5.58000003,  5.64800003,  5.71600003,  5.78400003,  5.85200003,\n",
       "         5.92000003,  5.98800003,  6.05600003,  6.12400003,  6.19200003,\n",
       "         6.26000003,  6.32800003,  6.39600003,  6.46400002,  6.53200002,\n",
       "         6.60000002,  6.66800002,  6.73600002,  6.80400002,  6.87200002,\n",
       "         6.94000002,  7.00800002,  7.07600002,  7.14400002,  7.21200002,\n",
       "         7.28000002,  7.34800002,  7.41600002,  7.48400002,  7.55200002,\n",
       "         7.62000002,  7.68800002,  7.75600002,  7.82400002,  7.89200001,\n",
       "         7.96000001,  8.02800001,  8.09600001,  8.16400001,  8.23200001,\n",
       "         8.30000001,  8.36800001,  8.43600001,  8.50400001,  8.57200001,\n",
       "         8.64000001,  8.70800001,  8.77600001,  8.84400001,  8.91200001,\n",
       "         8.98000001,  9.04800001,  9.11600001,  9.18400001,  9.25200001,\n",
       "         9.32      ,  9.388     ,  9.456     ,  9.524     ,  9.592     ,\n",
       "         9.66      ,  9.728     ,  9.796     ,  9.864     ,  9.932     ,\n",
       "        10.        ]),\n",
       " <BarContainer object of 100 artists>)"
      ]
     },
     "execution_count": 24,
     "metadata": {},
     "output_type": "execute_result"
    },
    {
     "data": {
      "image/png": "[encoded data removed]",
      "text/plain": [
       "<Figure size 640x480 with 1 Axes>"
      ]
     },
     "metadata": {},
     "output_type": "display_data"
    }
   ],
   "source": [
    "plt.hist(GTEx_sample_QCed_dataframe_notNA_MaterialType_notFewSamples[\"rin_number\"], bins=100)"
   ]
  },
  {
   "cell_type": "markdown",
   "id": "497bdc1f",
   "metadata": {},
   "source": [
    "#### Delete the samples with RIN less than 5"
   ]
  },
  {
   "cell_type": "code",
   "execution_count": 25,
   "id": "77b39996",
   "metadata": {},
   "outputs": [],
   "source": [
    "GTEx_sample_QCed_dataframe_notNA_MaterialType_notFewSamples_rin=GTEx_sample_QCed_dataframe_notNA_MaterialType_notFewSamples[~(GTEx_sample_QCed_dataframe_notNA_MaterialType_notFewSamples[\"rin_number\"]<5)]"
   ]
  },
  {
   "cell_type": "code",
   "execution_count": 26,
   "id": "3bba073b",
   "metadata": {},
   "outputs": [
    {
     "data": {
      "text/plain": [
       "(14443, 118)"
      ]
     },
     "execution_count": 26,
     "metadata": {},
     "output_type": "execute_result"
    }
   ],
   "source": [
    "GTEx_sample_QCed_dataframe_notNA_MaterialType_notFewSamples_rin.shape"
   ]
  },
  {
   "cell_type": "markdown",
   "id": "b3852189",
   "metadata": {},
   "source": [
    "#### Regarding the autolysis score "
   ]
  },
  {
   "cell_type": "code",
   "execution_count": 27,
   "id": "4a6bcd4d",
   "metadata": {},
   "outputs": [
    {
     "data": {
      "text/plain": [
       "Mild        9096\n",
       "None        3118\n",
       "Moderate    1334\n",
       "Severe       161\n",
       "Name: autolysis_score, dtype: int64"
      ]
     },
     "execution_count": 27,
     "metadata": {},
     "output_type": "execute_result"
    }
   ],
   "source": [
    "GTEx_sample_QCed_dataframe_notNA_MaterialType_notFewSamples_rin[\"autolysis_score\"].value_counts()"
   ]
  },
  {
   "cell_type": "markdown",
   "id": "a266a408",
   "metadata": {},
   "source": [
    "#### Regarding the Nucleic Acid Isolation Batch ID"
   ]
  },
  {
   "cell_type": "code",
   "execution_count": 28,
   "id": "751ccf06",
   "metadata": {
    "scrolled": true
   },
   "outputs": [
    {
     "data": {
      "text/plain": [
       "BP-79140    80\n",
       "BP-52773    79\n",
       "BP-43072    76\n",
       "BP-67135    76\n",
       "BP-73690    76\n",
       "            ..\n",
       "BP-42407     1\n",
       "BP-65860     1\n",
       "BP-66268     1\n",
       "BP-18358     1\n",
       "BP-28780     1\n",
       "Name: nucleic_acid_isolation_batch_id, Length: 973, dtype: int64"
      ]
     },
     "execution_count": 28,
     "metadata": {},
     "output_type": "execute_result"
    }
   ],
   "source": [
    "GTEx_sample_QCed_dataframe_notNA_MaterialType_notFewSamples_rin[\"nucleic_acid_isolation_batch_id\"].value_counts()"
   ]
  },
  {
   "cell_type": "markdown",
   "id": "e22b947c",
   "metadata": {},
   "source": [
    "#### Regarding the Date of nucleic acid isolation batch"
   ]
  },
  {
   "cell_type": "code",
   "execution_count": 29,
   "id": "a416e523",
   "metadata": {},
   "outputs": [
    {
     "data": {
      "text/plain": [
       "1/6/14      144\n",
       "11/1/13     129\n",
       "10/29/13    128\n",
       "10/22/13    127\n",
       "12/13/13    125\n",
       "           ... \n",
       "3/2/15        1\n",
       "4/7/12        1\n",
       "8/5/11        1\n",
       "10/19/12      1\n",
       "8/2/12        1\n",
       "Name: date_nucleic_acid_isolation, Length: 614, dtype: int64"
      ]
     },
     "execution_count": 29,
     "metadata": {},
     "output_type": "execute_result"
    }
   ],
   "source": [
    "GTEx_sample_QCed_dataframe_notNA_MaterialType_notFewSamples_rin[\"date_nucleic_acid_isolation\"].value_counts()"
   ]
  },
  {
   "cell_type": "markdown",
   "id": "092ba377",
   "metadata": {},
   "source": [
    "#### Regarding the Genotype or Expression Batch ID"
   ]
  },
  {
   "cell_type": "code",
   "execution_count": 30,
   "id": "1ca7f7c0",
   "metadata": {},
   "outputs": [
    {
     "data": {
      "text/plain": [
       "LCSET-4417                 95\n",
       "LCSET-4955                 93\n",
       "LCSET-4805                 93\n",
       "LCSET-6806                 93\n",
       "LCSET-9104                 92\n",
       "                           ..\n",
       "LCSET-4170,LCSET-4523       1\n",
       "LCSET-10975,LCSET-11230     1\n",
       "LCSET-4900,LCSET-5338       1\n",
       "LCSET-7849,LCSET-8322       1\n",
       "LCSET-7847,LCSET-8170       1\n",
       "Name: genotype_expression_batch_id, Length: 395, dtype: int64"
      ]
     },
     "execution_count": 30,
     "metadata": {},
     "output_type": "execute_result"
    }
   ],
   "source": [
    "GTEx_sample_QCed_dataframe_notNA_MaterialType_notFewSamples_rin[\"genotype_expression_batch_id\"].value_counts()"
   ]
  },
  {
   "cell_type": "markdown",
   "id": "dd17c22b",
   "metadata": {},
   "source": [
    "#### Regarding the Date of genotype or expression batch"
   ]
  },
  {
   "cell_type": "code",
   "execution_count": 31,
   "id": "d48f7ceb",
   "metadata": {},
   "outputs": [
    {
     "data": {
      "text/plain": [
       "3/23/14     569\n",
       "1/14/15     383\n",
       "3/22/14     379\n",
       "12/16/12    354\n",
       "9/11/12     277\n",
       "           ... \n",
       "4/13/13       1\n",
       "9/9/14        1\n",
       "5/11/13       1\n",
       "1/27/13       1\n",
       "4/2/14        1\n",
       "Name: date_genotype_expression, Length: 226, dtype: int64"
      ]
     },
     "execution_count": 31,
     "metadata": {},
     "output_type": "execute_result"
    }
   ],
   "source": [
    "GTEx_sample_QCed_dataframe_notNA_MaterialType_notFewSamples_rin[\"date_genotype_expression\"].value_counts()"
   ]
  },
  {
   "cell_type": "markdown",
   "id": "59dc3070",
   "metadata": {},
   "source": [
    "#### Regarding the total ischemic time for a sample"
   ]
  },
  {
   "cell_type": "code",
   "execution_count": 32,
   "id": "d020714e",
   "metadata": {},
   "outputs": [
    {
     "data": {
      "text/plain": [
       "(array([  1.,   1.,   0.,   0.,   1.,   2.,   1.,   0.,   0.,   0.,   0.,\n",
       "          0.,   0.,   0.,   1.,   0.,   0.,   0.,   0.,   0.,   0.,   0.,\n",
       "          0.,   1.,   1.,   1.,   0.,   2.,   2.,   3.,   7.,  20.,  20.,\n",
       "         31.,  54.,  62.,  67.,  39.,   9.,  49., 252., 725., 915., 853.,\n",
       "        791., 651., 506., 369., 330., 373., 332., 326., 449., 425., 340.,\n",
       "        355., 318., 312., 332., 277., 321., 303., 305., 322., 290., 284.,\n",
       "        326., 266., 251., 252., 192., 206., 173., 146., 154., 156., 179.,\n",
       "        156., 177., 143.,  90.,  23.,  16.,  14.,  24.,  21.,   9.,  22.,\n",
       "          3.,   5.,   3.,   1.,   1.,   0.,   0.,   1.,   0.,   0.,   0.,\n",
       "          2.]),\n",
       " array([-1287.  , -1253.37, -1219.74, -1186.11, -1152.48, -1118.85,\n",
       "        -1085.22, -1051.59, -1017.96,  -984.33,  -950.7 ,  -917.07,\n",
       "         -883.44,  -849.81,  -816.18,  -782.55,  -748.92,  -715.29,\n",
       "         -681.66,  -648.03,  -614.4 ,  -580.77,  -547.14,  -513.51,\n",
       "         -479.88,  -446.25,  -412.62,  -378.99,  -345.36,  -311.73,\n",
       "         -278.1 ,  -244.47,  -210.84,  -177.21,  -143.58,  -109.95,\n",
       "          -76.32,   -42.69,    -9.06,    24.57,    58.2 ,    91.83,\n",
       "          125.46,   159.09,   192.72,   226.35,   259.98,   293.61,\n",
       "          327.24,   360.87,   394.5 ,   428.13,   461.76,   495.39,\n",
       "          529.02,   562.65,   596.28,   629.91,   663.54,   697.17,\n",
       "          730.8 ,   764.43,   798.06,   831.69,   865.32,   898.95,\n",
       "          932.58,   966.21,   999.84,  1033.47,  1067.1 ,  1100.73,\n",
       "         1134.36,  1167.99,  1201.62,  1235.25,  1268.88,  1302.51,\n",
       "         1336.14,  1369.77,  1403.4 ,  1437.03,  1470.66,  1504.29,\n",
       "         1537.92,  1571.55,  1605.18,  1638.81,  1672.44,  1706.07,\n",
       "         1739.7 ,  1773.33,  1806.96,  1840.59,  1874.22,  1907.85,\n",
       "         1941.48,  1975.11,  2008.74,  2042.37,  2076.  ]),\n",
       " <BarContainer object of 100 artists>)"
      ]
     },
     "execution_count": 32,
     "metadata": {},
     "output_type": "execute_result"
    },
    {
     "data": {
      "image/png": "[encoded data removed]",
      "text/plain": [
       "<Figure size 640x480 with 1 Axes>"
      ]
     },
     "metadata": {},
     "output_type": "display_data"
    }
   ],
   "source": [
    "plt.hist(GTEx_sample_QCed_dataframe_notNA_MaterialType_notFewSamples_rin[\"total_ischemic_time\"], bins=100)"
   ]
  },
  {
   "cell_type": "markdown",
   "id": "04c7ded9",
   "metadata": {},
   "source": [
    "#### Remove the samples (139 samples) with total ischemic time more than 1440 minutes (24hours)"
   ]
  },
  {
   "cell_type": "code",
   "execution_count": 33,
   "id": "6b7bec43",
   "metadata": {},
   "outputs": [],
   "source": [
    "GTEx_sample_QCed_dataframe_notNA_MaterialType_notFewSamples_rin_ischemic = GTEx_sample_QCed_dataframe_notNA_MaterialType_notFewSamples_rin[~(GTEx_sample_QCed_dataframe_notNA_MaterialType_notFewSamples_rin[\"total_ischemic_time\"]>1440)]"
   ]
  },
  {
   "cell_type": "markdown",
   "id": "c410dd8f",
   "metadata": {},
   "source": [
    "### End of QC"
   ]
  },
  {
   "cell_type": "markdown",
   "id": "94181d23",
   "metadata": {},
   "source": [
    "### The variable QCed_samples_metadata contains the metadata of all the QC that I have done"
   ]
  },
  {
   "cell_type": "markdown",
   "id": "a23be401",
   "metadata": {},
   "source": [
    "#### QC steps: \n",
    "1) Use the GTEx QC\n",
    "\n",
    "2) Remove the samples with NA even in one variable of interest\n",
    "\n",
    "3) Keep only samples from Tissue:PAXgene Preserved \n",
    "\n",
    "4) Keep only tissues (tissue_type_detail) with more than 20 samples\n",
    "\n",
    "5) Remove samples with RIN < 5 \n",
    "\n",
    "6) Remove samples with total ischemic time more than 24h "
   ]
  },
  {
   "cell_type": "code",
   "execution_count": 34,
   "id": "4b2a8cea",
   "metadata": {},
   "outputs": [],
   "source": [
    "QCed_samples_metadata=GTEx_sample_QCed_dataframe_notNA_MaterialType_notFewSamples_rin_ischemic"
   ]
  },
  {
   "cell_type": "code",
   "execution_count": 35,
   "id": "c2ae6d8d",
   "metadata": {},
   "outputs": [
    {
     "data": {
      "text/plain": [
       "(14304, 118)"
      ]
     },
     "execution_count": 35,
     "metadata": {},
     "output_type": "execute_result"
    }
   ],
   "source": [
    "QCed_samples_metadata.shape"
   ]
  },
  {
   "cell_type": "markdown",
   "id": "8c41fdd4",
   "metadata": {},
   "source": [
    "## See some basic statistics of metadata"
   ]
  },
  {
   "cell_type": "markdown",
   "id": "5d86083b",
   "metadata": {},
   "source": [
    "### Number of different tissues"
   ]
  },
  {
   "cell_type": "code",
   "execution_count": 36,
   "id": "7fc51e8e",
   "metadata": {
    "scrolled": true
   },
   "outputs": [
    {
     "data": {
      "text/plain": [
       "37"
      ]
     },
     "execution_count": 36,
     "metadata": {},
     "output_type": "execute_result"
    }
   ],
   "source": [
    "len(QCed_samples_metadata[\"tissue_type_detail\"].value_counts())"
   ]
  },
  {
   "cell_type": "code",
   "execution_count": 37,
   "id": "305d3505",
   "metadata": {},
   "outputs": [
    {
     "data": {
      "text/plain": [
       "28"
      ]
     },
     "execution_count": 37,
     "metadata": {},
     "output_type": "execute_result"
    }
   ],
   "source": [
    "len(QCed_samples_metadata[\"tissue_type\"].value_counts())"
   ]
  },
  {
   "cell_type": "markdown",
   "id": "1abc2edd",
   "metadata": {},
   "source": [
    "### Number of subjects "
   ]
  },
  {
   "cell_type": "code",
   "execution_count": 38,
   "id": "49dfd4d4",
   "metadata": {},
   "outputs": [
    {
     "data": {
      "text/plain": [
       "942"
      ]
     },
     "execution_count": 38,
     "metadata": {},
     "output_type": "execute_result"
    }
   ],
   "source": [
    "len(set([sample[1] for sample in QCed_samples_metadata[\"subjects.submitter_id\"].str.split(\"-\")]))"
   ]
  },
  {
   "cell_type": "markdown",
   "id": "e61b7f5b",
   "metadata": {},
   "source": [
    "### Total number of samples"
   ]
  },
  {
   "cell_type": "code",
   "execution_count": 39,
   "id": "7bbb5000",
   "metadata": {},
   "outputs": [
    {
     "data": {
      "text/plain": [
       "(14304, 118)"
      ]
     },
     "execution_count": 39,
     "metadata": {},
     "output_type": "execute_result"
    }
   ],
   "source": [
    "QCed_samples_metadata.shape"
   ]
  },
  {
   "cell_type": "markdown",
   "id": "8fb68727",
   "metadata": {},
   "source": [
    "### The frequencies of the different tissues in the final data"
   ]
  },
  {
   "cell_type": "code",
   "execution_count": 40,
   "id": "16efb5e4",
   "metadata": {
    "scrolled": true
   },
   "outputs": [
    {
     "data": {
      "text/plain": [
       "Muscle - Skeletal                        791\n",
       "Whole Blood                              733\n",
       "Skin - Sun Exposed (Lower leg)           691\n",
       "Adipose - Subcutaneous                   656\n",
       "Artery - Tibial                          655\n",
       "Thyroid                                  644\n",
       "Nerve - Tibial                           615\n",
       "Skin - Not Sun Exposed (Suprapubic)      597\n",
       "Lung                                     568\n",
       "Esophagus - Mucosa                       541\n",
       "Adipose - Visceral (Omentum)             533\n",
       "Esophagus - Muscularis                   501\n",
       "Breast - Mammary Tissue                  454\n",
       "Heart - Atrial Appendage                 426\n",
       "Artery - Aorta                           426\n",
       "Heart - Left Ventricle                   424\n",
       "Colon - Transverse                       403\n",
       "Esophagus - Gastroesophageal Junction    371\n",
       "Colon - Sigmoid                          370\n",
       "Testis                                   356\n",
       "Stomach                                  352\n",
       "Pancreas                                 324\n",
       "Pituitary                                277\n",
       "Adrenal Gland                            252\n",
       "Brain - Cortex                           252\n",
       "Artery - Coronary                        239\n",
       "Prostate                                 239\n",
       "Brain - Cerebellum                       236\n",
       "Spleen                                   234\n",
       "Liver                                    222\n",
       "Small Intestine - Terminal Ileum         183\n",
       "Ovary                                    179\n",
       "Minor Salivary Gland                     160\n",
       "Vagina                                   153\n",
       "Uterus                                   141\n",
       "Kidney - Cortex                           85\n",
       "Bladder                                   21\n",
       "Name: tissue_type_detail, dtype: int64"
      ]
     },
     "execution_count": 40,
     "metadata": {},
     "output_type": "execute_result"
    }
   ],
   "source": [
    "QCed_samples_metadata[\"tissue_type_detail\"].value_counts()"
   ]
  },
  {
   "cell_type": "markdown",
   "id": "97629baf",
   "metadata": {},
   "source": [
    "### Subject QC"
   ]
  },
  {
   "cell_type": "code",
   "execution_count": 41,
   "id": "948353f6",
   "metadata": {},
   "outputs": [],
   "source": [
    "subject_attributes=pd.read_table(\"./tsvs/subject.tsv\")"
   ]
  },
  {
   "cell_type": "code",
   "execution_count": 42,
   "id": "5f28c196",
   "metadata": {
    "scrolled": true
   },
   "outputs": [
    {
     "name": "stderr",
     "output_type": "stream",
     "text": [
      "/tmp/ipykernel_4149099/1558919321.py:1: SettingWithCopyWarning: \n",
      "A value is trying to be set on a copy of a slice from a DataFrame.\n",
      "Try using .loc[row_indexer,col_indexer] = value instead\n",
      "\n",
      "See the caveats in the documentation: https://pandas.pydata.org/pandas-docs/stable/user_guide/indexing.html#returning-a-view-versus-a-copy\n",
      "  QCed_samples_metadata[\"subject_ID\"]=[\"GTEX-\"+x.split(\"-\")[1] for x in QCed_samples_metadata[\"specimen_id\"]]\n"
     ]
    }
   ],
   "source": [
    "QCed_samples_metadata[\"subject_ID\"]=[\"GTEX-\"+x.split(\"-\")[1] for x in QCed_samples_metadata[\"specimen_id\"]]"
   ]
  },
  {
   "cell_type": "code",
   "execution_count": 43,
   "id": "32e525c9",
   "metadata": {},
   "outputs": [],
   "source": [
    "metadata_all=pd.merge(QCed_samples_metadata,subject_attributes,left_on=\"subject_ID\",right_on=\"submitter_id\")"
   ]
  },
  {
   "cell_type": "code",
   "execution_count": 44,
   "id": "c9d3776e",
   "metadata": {},
   "outputs": [
    {
     "data": {
      "text/plain": [
       "(14304, 350)"
      ]
     },
     "execution_count": 44,
     "metadata": {},
     "output_type": "execute_result"
    }
   ],
   "source": [
    "metadata_all.shape"
   ]
  },
  {
   "cell_type": "code",
   "execution_count": 45,
   "id": "10f84d8e",
   "metadata": {},
   "outputs": [],
   "source": [
    "subject_attributes_samplesQCed=subject_attributes[subject_attributes[\"submitter_id\"].isin(QCed_samples_metadata[\"subject_ID\"])]"
   ]
  },
  {
   "cell_type": "code",
   "execution_count": 46,
   "id": "55dce60b",
   "metadata": {},
   "outputs": [
    {
     "data": {
      "text/plain": [
       "942"
      ]
     },
     "execution_count": 46,
     "metadata": {},
     "output_type": "execute_result"
    }
   ],
   "source": [
    "len(subject_attributes_samplesQCed)"
   ]
  },
  {
   "cell_type": "markdown",
   "id": "b04d307e",
   "metadata": {},
   "source": [
    "### History Check\n",
    "Check how many subjects of each variable have each attribute"
   ]
  },
  {
   "cell_type": "code",
   "execution_count": 47,
   "id": "91a72b5d",
   "metadata": {},
   "outputs": [],
   "source": [
    "def print_attribute_size(pd_dataframe,attribute):\n",
    "    print(pd_dataframe.groupby(attribute).size())\n",
    "    print(\"------------------------------------\")"
   ]
  },
  {
   "cell_type": "markdown",
   "id": "5421ac6b",
   "metadata": {},
   "source": [
    "###### https://ftp.ncbi.nlm.nih.gov/dbgap/studies/phs000424/phs000424.v9.p2/pheno_variable_summaries/phs000424.v9.pht002742.v9.GTEx_Subject_Phenotypes.data_dict.xml explainning the terms "
   ]
  },
  {
   "cell_type": "markdown",
   "id": "9f32563a",
   "metadata": {},
   "source": [
    "### Remove the subjects that are not Eligible For Study"
   ]
  },
  {
   "cell_type": "code",
   "execution_count": 48,
   "id": "480f1d83",
   "metadata": {
    "scrolled": true
   },
   "outputs": [
    {
     "data": {
      "text/plain": [
       "0      True\n",
       "1      True\n",
       "2      True\n",
       "3      True\n",
       "4      True\n",
       "       ... \n",
       "943    True\n",
       "944    True\n",
       "945    True\n",
       "946    True\n",
       "947    True\n",
       "Name: eligible_for_study, Length: 942, dtype: bool"
      ]
     },
     "execution_count": 48,
     "metadata": {},
     "output_type": "execute_result"
    }
   ],
   "source": [
    "subject_attributes_samplesQCed[\"eligible_for_study\"]"
   ]
  },
  {
   "cell_type": "code",
   "execution_count": 49,
   "id": "18b9fc80",
   "metadata": {},
   "outputs": [
    {
     "data": {
      "text/plain": [
       "9"
      ]
     },
     "execution_count": 49,
     "metadata": {},
     "output_type": "execute_result"
    }
   ],
   "source": [
    "len(subject_attributes_samplesQCed[subject_attributes_samplesQCed[\"eligible_for_study\"]==False][\"source_subject_id\"])"
   ]
  },
  {
   "cell_type": "code",
   "execution_count": 50,
   "id": "81b17a00",
   "metadata": {},
   "outputs": [],
   "source": [
    "subject_attributes_samplesQCed_Eligible=subject_attributes_samplesQCed[~(subject_attributes_samplesQCed[\"eligible_for_study\"]==False)]"
   ]
  },
  {
   "cell_type": "code",
   "execution_count": 51,
   "id": "92f2ed3a",
   "metadata": {},
   "outputs": [
    {
     "data": {
      "text/plain": [
       "933"
      ]
     },
     "execution_count": 51,
     "metadata": {},
     "output_type": "execute_result"
    }
   ],
   "source": [
    "len(subject_attributes_samplesQCed_Eligible)"
   ]
  },
  {
   "cell_type": "markdown",
   "id": "0ba50fd5",
   "metadata": {},
   "source": [
    "### Some subjects were at the time of sampling, diagnosed with cancer or have 5years history of cancer\n",
    "Remove these subjects"
   ]
  },
  {
   "cell_type": "code",
   "execution_count": 52,
   "id": "e89d5173",
   "metadata": {},
   "outputs": [
    {
     "data": {
      "text/plain": [
       "7"
      ]
     },
     "execution_count": 52,
     "metadata": {},
     "output_type": "execute_result"
    }
   ],
   "source": [
    "len(subject_attributes_samplesQCed_Eligible[subject_attributes_samplesQCed_Eligible[\"current_diagnosed_cancer\"]==\"Yes\"])"
   ]
  },
  {
   "cell_type": "code",
   "execution_count": 53,
   "id": "de735353",
   "metadata": {},
   "outputs": [],
   "source": [
    "subject_attributes_samplesQCed_Eligible_noCancer=subject_attributes_samplesQCed_Eligible[~(subject_attributes_samplesQCed_Eligible[\"current_diagnosed_cancer\"]==\"Yes\")]"
   ]
  },
  {
   "cell_type": "code",
   "execution_count": 54,
   "id": "2f43e5b5",
   "metadata": {},
   "outputs": [],
   "source": [
    "subject_attributes_samplesQCed_Eligible_noCancer2=subject_attributes_samplesQCed_Eligible_noCancer[~(subject_attributes_samplesQCed_Eligible_noCancer[\"five_years_diagnosed_cancer\"]==\"Yes\")]"
   ]
  },
  {
   "cell_type": "code",
   "execution_count": 55,
   "id": "76cb980e",
   "metadata": {},
   "outputs": [
    {
     "data": {
      "text/plain": [
       "910"
      ]
     },
     "execution_count": 55,
     "metadata": {},
     "output_type": "execute_result"
    }
   ],
   "source": [
    "len(subject_attributes_samplesQCed_Eligible_noCancer2)"
   ]
  },
  {
   "cell_type": "markdown",
   "id": "e7f62ded",
   "metadata": {},
   "source": [
    "### Exploring history attributes"
   ]
  },
  {
   "cell_type": "code",
   "execution_count": 56,
   "id": "51bd5fb7",
   "metadata": {},
   "outputs": [],
   "source": [
    "patients=subject_attributes_samplesQCed_Eligible_noCancer2[(subject_attributes_samplesQCed_Eligible_noCancer2[\"als_history\"]==\"Yes\") | \n",
    "                   (subject_attributes_samplesQCed_Eligible_noCancer2[\"alzheimer_history\"]==\"Yes\") |\n",
    "                   (subject_attributes_samplesQCed_Eligible_noCancer2[\"alzheimer_or_dementia_history\"]==\"Yes\") |\n",
    "                    (subject_attributes_samplesQCed_Eligible_noCancer2[\"arthritis_history\"]==\"Yes\") |\n",
    "                    (subject_attributes_samplesQCed_Eligible_noCancer2[\"ascites_history\"]==\"Yes\") | \n",
    "                    (subject_attributes_samplesQCed_Eligible_noCancer2[\"asthma_history\"]==\"Yes\") |\n",
    "                    (subject_attributes_samplesQCed_Eligible_noCancer2[\"cerebrovascular_disease_history\"]==\"Yes\") |\n",
    "                    (subject_attributes_samplesQCed_Eligible_noCancer2[\"clrd_history\"]==\"Yes\") | \n",
    "                    (subject_attributes_samplesQCed_Eligible_noCancer2[\"copd_clrd_history\"]==\"Yes\") |\n",
    "                    (subject_attributes_samplesQCed_Eligible_noCancer2[\"creutzfeldt_jakob_history\"]==\"Yes\") |\n",
    "                    (subject_attributes_samplesQCed_Eligible_noCancer2[\"current_diagnosed_cancer\"]==\"Yes\")|\n",
    "                    (subject_attributes_samplesQCed_Eligible_noCancer2[\"dementia_history\"]==\"Yes\") | \n",
    "                    (subject_attributes_samplesQCed_Eligible_noCancer2[\"depression_history\"]==\"Yes\") |\n",
    "                    (subject_attributes_samplesQCed_Eligible_noCancer2[\"diabetes_i_history\"]==\"Yes\") | \n",
    "                    (subject_attributes_samplesQCed_Eligible_noCancer2[\"diabetes_ii_history\"]==\"Yes\") | \n",
    "                    (subject_attributes_samplesQCed_Eligible_noCancer2[\"dialysis_treatment\"]==\"Yes\") | \n",
    "                    (subject_attributes_samplesQCed_Eligible_noCancer2[\"five_years_diagnosed_cancer\"]==\"Yes\") |\n",
    "                    (subject_attributes_samplesQCed_Eligible_noCancer2[\"fugal_infection_at_death\"]==\"Yes\") | \n",
    "                    (subject_attributes_samplesQCed_Eligible_noCancer2[\"gonorrhea_at_death\"]==\"Yes\") | \n",
    "                    (subject_attributes_samplesQCed_Eligible_noCancer2[\"heart_attack_history\"]==\"Yes\") | \n",
    "                    (subject_attributes_samplesQCed_Eligible_noCancer2[\"heart_disease_history\"]==\"Yes\") | \n",
    "                    (subject_attributes_samplesQCed_Eligible_noCancer2[\"hemophilia_history\"]==\"Yes\") | \n",
    "                    (subject_attributes_samplesQCed_Eligible_noCancer2[\"hypertension_history\"]==\"Yes\") | \n",
    "                    (subject_attributes_samplesQCed_Eligible_noCancer2[\"ischemic_heart_history\"]==\"Yes\") |\n",
    "                    (subject_attributes_samplesQCed_Eligible_noCancer2[\"kidney_inflammation_history\"]==\"Yes\") | \n",
    "                    (subject_attributes_samplesQCed_Eligible_noCancer2[\"liver_disease_history\"]==\"Yes\") | \n",
    "                    (subject_attributes_samplesQCed_Eligible_noCancer2[\"multiple_sclerosis\"]==\"Yes\") | \n",
    "                    (subject_attributes_samplesQCed_Eligible_noCancer2[\"non_metastatic_cancer\"]==\"Yes\") | \n",
    "                    (subject_attributes_samplesQCed_Eligible_noCancer2[\"osteomyelitis_history\"]==\"Yes\") |\n",
    "                    (subject_attributes_samplesQCed_Eligible_noCancer2[\"parkinson_history\"]==\"Yes\") | \n",
    "                    (subject_attributes_samplesQCed_Eligible_noCancer2[\"received_tissue_organ_transplant\"]==\"Yes\")|\n",
    "                    (subject_attributes_samplesQCed_Eligible_noCancer2[\"renal_failure_history\"]==\"Yes\") |\n",
    "                    (subject_attributes_samplesQCed_Eligible_noCancer2[\"rheumatoid_arthritis_history\"]==\"Yes\")|\n",
    "                    (subject_attributes_samplesQCed_Eligible_noCancer2[\"sarcoidosis_history\"]==\"Yes\")|\n",
    "                    (subject_attributes_samplesQCed_Eligible_noCancer2[\"schizophrenia_history\"]==\"Yes\")|\n",
    "                    (subject_attributes_samplesQCed_Eligible_noCancer2[\"scleroderma_history\"]==\"Yes\")|\n",
    "                    (subject_attributes_samplesQCed_Eligible_noCancer2[\"seizures_history\"]==\"Yes\")|\n",
    "                    (subject_attributes_samplesQCed_Eligible_noCancer2[\"systemic_lupus_history\"]==\"Yes\")|\n",
    "                    (subject_attributes_samplesQCed_Eligible_noCancer2[\"uremia_history\"]==\"Yes\")]"
   ]
  },
  {
   "cell_type": "code",
   "execution_count": 57,
   "id": "c4c341a0",
   "metadata": {},
   "outputs": [
    {
     "data": {
      "text/plain": [
       "738"
      ]
     },
     "execution_count": 57,
     "metadata": {},
     "output_type": "execute_result"
    }
   ],
   "source": [
    "len(patients)"
   ]
  },
  {
   "cell_type": "markdown",
   "id": "23897ed5",
   "metadata": {},
   "source": [
    "### QCed data with all samples and subjects passed QC"
   ]
  },
  {
   "cell_type": "code",
   "execution_count": 60,
   "id": "f533835f",
   "metadata": {},
   "outputs": [],
   "source": [
    "QCed_all=metadata_all[(metadata_all[\"subject_ID\"].isin(subject_attributes_samplesQCed_Eligible_noCancer2[\"submitter_id\"]))]"
   ]
  },
  {
   "cell_type": "code",
   "execution_count": 61,
   "id": "e754f760",
   "metadata": {},
   "outputs": [
    {
     "data": {
      "text/plain": [
       "13871"
      ]
     },
     "execution_count": 61,
     "metadata": {},
     "output_type": "execute_result"
    }
   ],
   "source": [
    "len(QCed_all)"
   ]
  },
  {
   "cell_type": "code",
   "execution_count": 62,
   "id": "65e5bdf6",
   "metadata": {},
   "outputs": [
    {
     "data": {
      "text/plain": [
       "tissue_type_detail\n",
       "Adipose - Subcutaneous                   636\n",
       "Adipose - Visceral (Omentum)             520\n",
       "Adrenal Gland                            242\n",
       "Artery - Aorta                           411\n",
       "Artery - Coronary                        230\n",
       "Artery - Tibial                          634\n",
       "Bladder                                   19\n",
       "Brain - Cerebellum                       227\n",
       "Brain - Cortex                           245\n",
       "Breast - Mammary Tissue                  447\n",
       "Colon - Sigmoid                          360\n",
       "Colon - Transverse                       387\n",
       "Esophagus - Gastroesophageal Junction    362\n",
       "Esophagus - Mucosa                       523\n",
       "Esophagus - Muscularis                   486\n",
       "Heart - Atrial Appendage                 418\n",
       "Heart - Left Ventricle                   408\n",
       "Kidney - Cortex                           83\n",
       "Liver                                    217\n",
       "Lung                                     546\n",
       "Minor Salivary Gland                     156\n",
       "Muscle - Skeletal                        767\n",
       "Nerve - Tibial                           597\n",
       "Ovary                                    173\n",
       "Pancreas                                 314\n",
       "Pituitary                                267\n",
       "Prostate                                 233\n",
       "Skin - Not Sun Exposed (Suprapubic)      581\n",
       "Skin - Sun Exposed (Lower leg)           669\n",
       "Small Intestine - Terminal Ileum         179\n",
       "Spleen                                   227\n",
       "Stomach                                  341\n",
       "Testis                                   343\n",
       "Thyroid                                  625\n",
       "Uterus                                   138\n",
       "Vagina                                   148\n",
       "Whole Blood                              712\n",
       "dtype: int64"
      ]
     },
     "execution_count": 62,
     "metadata": {},
     "output_type": "execute_result"
    }
   ],
   "source": [
    "QCed_all.groupby(\"tissue_type_detail\").size()"
   ]
  },
  {
   "cell_type": "code",
   "execution_count": 63,
   "id": "fe37c706",
   "metadata": {},
   "outputs": [
    {
     "data": {
      "text/plain": [
       "tissue_type\n",
       "Adipose Tissue     1156\n",
       "Adrenal Gland       242\n",
       "Bladder              19\n",
       "Blood               712\n",
       "Blood Vessel       1275\n",
       "Brain               472\n",
       "Breast              447\n",
       "Colon               747\n",
       "Esophagus          1371\n",
       "Heart               826\n",
       "Kidney               83\n",
       "Liver               217\n",
       "Lung                546\n",
       "Muscle              767\n",
       "Nerve               597\n",
       "Ovary               173\n",
       "Pancreas            314\n",
       "Pituitary           267\n",
       "Prostate            233\n",
       "Salivary Gland      156\n",
       "Skin               1250\n",
       "Small Intestine     179\n",
       "Spleen              227\n",
       "Stomach             341\n",
       "Testis              343\n",
       "Thyroid             625\n",
       "Uterus              138\n",
       "Vagina              148\n",
       "dtype: int64"
      ]
     },
     "execution_count": 63,
     "metadata": {},
     "output_type": "execute_result"
    }
   ],
   "source": [
    "QCed_all.groupby(\"tissue_type\").size()"
   ]
  },
  {
   "cell_type": "code",
   "execution_count": 64,
   "id": "bdb7e573",
   "metadata": {
    "scrolled": true
   },
   "outputs": [
    {
     "data": {
      "text/plain": [
       "37"
      ]
     },
     "execution_count": 64,
     "metadata": {},
     "output_type": "execute_result"
    }
   ],
   "source": [
    "len(set(QCed_all[\"tissue_type_detail\"]))"
   ]
  },
  {
   "cell_type": "code",
   "execution_count": 65,
   "id": "eeecf0f1",
   "metadata": {},
   "outputs": [
    {
     "data": {
      "text/plain": [
       "28"
      ]
     },
     "execution_count": 65,
     "metadata": {},
     "output_type": "execute_result"
    }
   ],
   "source": [
    "len(set(QCed_all[\"tissue_type\"]))"
   ]
  },
  {
   "cell_type": "code",
   "execution_count": 66,
   "id": "fcea3f0b",
   "metadata": {
    "scrolled": true
   },
   "outputs": [
    {
     "data": {
      "text/plain": [
       "910"
      ]
     },
     "execution_count": 66,
     "metadata": {},
     "output_type": "execute_result"
    }
   ],
   "source": [
    "len(set(QCed_all[\"subject_ID\"]))"
   ]
  },
  {
   "cell_type": "markdown",
   "id": "c67e82df",
   "metadata": {},
   "source": [
    "### Save the objectID file"
   ]
  },
  {
   "cell_type": "code",
   "execution_count": 67,
   "id": "cb41677c",
   "metadata": {},
   "outputs": [],
   "source": [
    "objectID=QCed_all.loc[:, [\"object_id\",\"samples.submitter_id\"]]"
   ]
  },
  {
   "cell_type": "code",
   "execution_count": 68,
   "id": "28845db1",
   "metadata": {},
   "outputs": [
    {
     "data": {
      "text/plain": [
       "13871"
      ]
     },
     "execution_count": 68,
     "metadata": {},
     "output_type": "execute_result"
    }
   ],
   "source": [
    "len(objectID)"
   ]
  },
  {
   "cell_type": "code",
   "execution_count": 69,
   "id": "3053484a",
   "metadata": {},
   "outputs": [],
   "source": [
    "objectID.to_csv(\"files_objectID_all.txt\", sep=\" \", index=False)"
   ]
  },
  {
   "cell_type": "markdown",
   "id": "f0d94387",
   "metadata": {},
   "source": [
    "### Save the QCed_all to the file GTEx_Argis_QCed_all.csv"
   ]
  },
  {
   "cell_type": "code",
   "execution_count": 70,
   "id": "5bae291b",
   "metadata": {},
   "outputs": [],
   "source": [
    "QCed_all.to_csv(\"GTEx_Argis_QCed_all_metadata.tab\",sep=\"\\t\", index=False)"
   ]
  },
  {
   "cell_type": "markdown",
   "id": "e8962e76",
   "metadata": {},
   "source": [
    "#### Recreate the needed metadata file from the publicly available datasets \n"
   ]
  },
  {
   "cell_type": "markdown",
   "id": "89ec643e",
   "metadata": {},
   "source": [
    "#### If you have access to GTEx data and the restricted metadata files the code below is not useful. This code is only to show how the metadata uploaded on Zenodo were created from the publicly available metadata files"
   ]
  },
  {
   "cell_type": "markdown",
   "id": "1d329331",
   "metadata": {},
   "source": [
    "#### Download the metadata file GTEx_Analysis_v8_Annotations_SampleAttributesDS.txt from https://www.gtexportal.org/home/downloads/adult-gtex/metadata"
   ]
  },
  {
   "cell_type": "code",
   "execution_count": 84,
   "id": "8bb14225",
   "metadata": {},
   "outputs": [],
   "source": [
    "metadata_public=samples_sequencing_attributes=pd.read_table(\"./GTEx_Analysis_v8_Annotations_SampleAttributesDS.txt\")"
   ]
  },
  {
   "cell_type": "markdown",
   "id": "0933afec",
   "metadata": {},
   "source": [
    "#### The difference among the names of the columns of publivly available metadata and restricted metadata \n",
    "samples.submitter_id = SAMPID\n",
    "\n",
    "tissue_type = SMTS\n",
    "\n",
    "specimen_id = SAMPID\n",
    "\n",
    "bss_collection_site = SMCENTER\n",
    "\n",
    "date_nucleic_acid_isolation = SMNABTCHD\n",
    "\n",
    "nucleic_acid_isolation_batch_id = SMNABTCH\n",
    "\n",
    "date_genotype_expression = SMGEBTCHD\n",
    "\n",
    "genotype_expression_batch_id = SMGEBTCH"
   ]
  },
  {
   "cell_type": "code",
   "execution_count": 85,
   "id": "6aa6b06e",
   "metadata": {
    "scrolled": true
   },
   "outputs": [
    {
     "name": "stderr",
     "output_type": "stream",
     "text": [
      "/tmp/ipykernel_4149099/2148261047.py:2: SettingWithCopyWarning: \n",
      "A value is trying to be set on a copy of a slice from a DataFrame.\n",
      "Try using .loc[row_indexer,col_indexer] = value instead\n",
      "\n",
      "See the caveats in the documentation: https://pandas.pydata.org/pandas-docs/stable/user_guide/indexing.html#returning-a-view-versus-a-copy\n",
      "  metadata_public['specimen_id']=metadata_public['SAMPID']\n"
     ]
    }
   ],
   "source": [
    "metadata_public = metadata_public[metadata_public['SAMPID'].isin(QCed_all['samples.submitter_id'])]\n",
    "metadata_public['specimen_id']=metadata_public['SAMPID']\n",
    "\n",
    "# Specify the columns to keep\n",
    "columns_to_keep = ['SAMPID', 'SMTS', 'specimen_id', 'SMCENTER',\n",
    "                  'SMNABTCHD', 'SMNABTCH', 'SMGEBTCHD', 'SMGEBTCH']\n",
    "\n",
    "metadata_public = metadata_public[columns_to_keep]\n",
    "\n",
    "# Rename the columns\n",
    "new_column_names = {'SAMPID': 'samples.submitter_id',\n",
    "                    'SMTS' : 'tissue_type',\n",
    "                    'specimen_id' : 'specimen_id',\n",
    "                    'SMCENTER' : 'bss_collection_site',\n",
    "                    'SMNABTCHD' : 'date_nucleic_acid_isolation',\n",
    "                    'SMNABTCH' : 'nucleic_acid_isolation_batch_id', \n",
    "                    'SMGEBTCHD' : 'date_genotype_expression',\n",
    "                    'SMGEBTCH' : 'genotype_expression_batch_id'}\n",
    "metadata_public = metadata_public.rename(columns=new_column_names)"
   ]
  },
  {
   "cell_type": "code",
   "execution_count": 87,
   "id": "5c31f262",
   "metadata": {},
   "outputs": [],
   "source": [
    "metadata_public.to_csv(\"GTEx_Argis_QCed_all_metadata.tab\",sep=\"\\t\", index=False)"
   ]
  }
 ],
 "metadata": {
  "kernelspec": {
   "display_name": "Python 3 (ipykernel)",
   "language": "python",
   "name": "python3"
  },
  "language_info": {
   "codemirror_mode": {
    "name": "ipython",
    "version": 3
   },
   "file_extension": ".py",
   "mimetype": "text/x-python",
   "name": "python",
   "nbconvert_exporter": "python",
   "pygments_lexer": "ipython3",
   "version": "3.9.15"
  }
 },
 "nbformat": 4,
 "nbformat_minor": 5
}
